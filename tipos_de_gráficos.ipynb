{
  "nbformat": 4,
  "nbformat_minor": 0,
  "metadata": {
    "colab": {
      "provenance": [],
      "toc_visible": true,
      "authorship_tag": "ABX9TyPSt7HAxzC6ipO5JpGM7tFd",
      "include_colab_link": true
    },
    "kernelspec": {
      "name": "python3",
      "display_name": "Python 3"
    },
    "language_info": {
      "name": "python"
    }
  },
  "cells": [
    {
      "cell_type": "markdown",
      "metadata": {
        "id": "view-in-github",
        "colab_type": "text"
      },
      "source": [
        "<a href=\"https://colab.research.google.com/github/cguillermo79/cguillermo2/blob/main/tipos_de_gr%C3%A1ficos.ipynb\" target=\"_parent\"><img src=\"https://colab.research.google.com/assets/colab-badge.svg\" alt=\"Open In Colab\"/></a>"
      ]
    },
    {
      "cell_type": "markdown",
      "source": [
        "#1) Univariados"
      ],
      "metadata": {
        "id": "4H6zIGTtbMNf"
      }
    },
    {
      "cell_type": "markdown",
      "source": [
        "##1. Histograma"
      ],
      "metadata": {
        "id": "yPlS7oudf8j8"
      }
    },
    {
      "cell_type": "markdown",
      "source": [
        "## 2. Densidad (KDE)"
      ],
      "metadata": {
        "id": "_oK1tFV3gFy1"
      }
    },
    {
      "cell_type": "markdown",
      "source": [
        "## 3. Polígono de frecuencias"
      ],
      "metadata": {
        "id": "ccK1qU57gdIb"
      }
    },
    {
      "cell_type": "markdown",
      "source": [
        "## 4. Stem-and-leaf"
      ],
      "metadata": {
        "id": "cV9mtM_EghEF"
      }
    },
    {
      "cell_type": "markdown",
      "source": [],
      "metadata": {
        "id": "QXZW-Yzrf7CP"
      }
    },
    {
      "cell_type": "code",
      "source": [],
      "metadata": {
        "id": "cJYu72MFfjDO"
      },
      "execution_count": null,
      "outputs": []
    }
  ]
}