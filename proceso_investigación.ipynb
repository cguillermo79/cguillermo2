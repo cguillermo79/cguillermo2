{
  "nbformat": 4,
  "nbformat_minor": 0,
  "metadata": {
    "colab": {
      "provenance": [],
      "toc_visible": true,
      "authorship_tag": "ABX9TyNfk0SjeDGyzzwPwuxHbPYT",
      "include_colab_link": true
    },
    "kernelspec": {
      "name": "python3",
      "display_name": "Python 3"
    },
    "language_info": {
      "name": "python"
    }
  },
  "cells": [
    {
      "cell_type": "markdown",
      "metadata": {
        "id": "view-in-github",
        "colab_type": "text"
      },
      "source": [
        "<a href=\"https://colab.research.google.com/github/cguillermo79/cguillermo2/blob/main/proceso_investigaci%C3%B3n.ipynb\" target=\"_parent\"><img src=\"https://colab.research.google.com/assets/colab-badge.svg\" alt=\"Open In Colab\"/></a>"
      ]
    },
    {
      "cell_type": "code",
      "execution_count": null,
      "metadata": {
        "id": "AVSdPAbAQA0n"
      },
      "outputs": [],
      "source": []
    },
    {
      "cell_type": "markdown",
      "source": [
        "\n",
        "# 1. PRÁCTICA: PROCESO COMPLETO DE INVESTIGACIÓN ESTADÍSTICA\n",
        "\n",
        "Estudio: Efecto de dos métodos de estudio en el rendimiento académico\n",
        "#\n",
        "# **Hipótesis**: El método activo de estudio produce mejores resultados que el método tradicional"
      ],
      "metadata": {
        "id": "vxfrGy6kQBhn"
      }
    },
    {
      "cell_type": "markdown",
      "source": [
        "##1. PROBLEMA Y PREGUNTA DE INVESTIGACIÓN"
      ],
      "metadata": {
        "id": "aBzL7GqrSWHf"
      }
    },
    {
      "cell_type": "code",
      "source": [
        "\n",
        "print(\"=\" * 60)\n",
        "print(\"1. PROBLEMA Y PREGUNTA DE INVESTIGACIÓN\")\n",
        "print(\"=\" * 60)\n",
        "\n",
        "problema = {\n",
        "    \"fenomeno\": \"Efectividad de métodos de enseñanza\",\n",
        "    \"pregunta_principal\": \"¿El método activo produce mejores resultados que el tradicional?\",\n",
        "    \"contexto\": \"Educación universitaria\",\n",
        "    \"relevancia\": \"Mejorar prácticas educativas basadas en evidencia\"\n",
        "}\n",
        "\n",
        "print(\"📋 CONTEXTO DEL PROBLEMA:\")\n",
        "for key, value in problema.items():\n",
        "    print(f\"• {key.replace('_', ' ').title()}: {value}\")"
      ],
      "metadata": {
        "colab": {
          "base_uri": "https://localhost:8080/"
        },
        "id": "dl_ulO_sSa5a",
        "outputId": "80e02980-9d0f-4413-9b1b-fb6bb1fe375e"
      },
      "execution_count": 2,
      "outputs": [
        {
          "output_type": "stream",
          "name": "stdout",
          "text": [
            "============================================================\n",
            "1. PROBLEMA Y PREGUNTA DE INVESTIGACIÓN\n",
            "============================================================\n",
            "📋 CONTEXTO DEL PROBLEMA:\n",
            "• Fenomeno: Efectividad de métodos de enseñanza\n",
            "• Pregunta Principal: ¿El método activo produce mejores resultados que el tradicional?\n",
            "• Contexto: Educación universitaria\n",
            "• Relevancia: Mejorar prácticas educativas basadas en evidencia\n"
          ]
        }
      ]
    }
  ]
}